{
  "cells": [
    {
      "cell_type": "markdown",
      "id": "b7e7dc48-3ce6-452d-bd75-09fca2f00c2b",
      "metadata": {},
      "source": [
        "# \n",
        "\n",
        "<link rel=\"stylesheet\" type=\"text/css\" href=\"./assets/styles.css\"><div class=\"callout callout-style-default callout-titled callout-response\"><div class=\"callout-header\"><div class=\"callout-icon-container\"><i class=\"callout-icon\"></i></div><div class=\"callout-title-container flex-fill\">What can we learn from migration patterns?</div></div><div class=\"callout-body-container callout-body\"><p>In the cell below, reflect on what you know about migration. You\n",
        "could consider:</p>\n",
        "<ol type=\"1\">\n",
        "<li>What are some reasons that animals migrate?</li>\n",
        "<li>How might climate change affect animal migrations?</li>\n",
        "<li>Do you notice any animal migrations in your area?</li>\n",
        "</ol></div></div>"
      ]
    },
    {
      "cell_type": "markdown",
      "id": "09ea9f1d-2434-41ec-9d7b-65eb3153d6d6",
      "metadata": {},
      "source": [
        "* Animals migrate primarily in search of food, as many species move to regions where food is more abundant at different times of the year. They also migrate to breed in specific areas that offer more favorable conditions for raising their young. In addition, climate change plays a crucial role; with the onset of winter or adverse conditions, many animals seek refuge in warmer places. Competition for resources in densely populated habitats, along with evolutionary adaptations that some species have developed, are factors that also contribute to this phenomenon. Finally, environmental conditions, such as the availability of water or the presence of predators, influence migration, making it a vital strategy for survival.\n",
        "\n",
        "* With climate change, there are several consequences:\n",
        "First, rising temperatures may cause animals to migrate earlier or later than usual, desynchronizing their life cycles with those of their food sources. This may result in resource scarcity during migration. In addition, changing precipitation patterns affect the availability of suitable habitats. Some areas may become inhospitable, forcing species to seek new migratory routes or destinations. Extreme weather events, such as storms or droughts, can also cause the death of individuals during migration or interrupt their trajectories.\n",
        "Finally, climate change can alter interactions between species, affecting competition for resources and predation. This can lead to changes in the composition of animal communities, affecting biodiversity in general. In short, climate influences animal migrations, which can have profound consequences for their populations and ecosystems.\n",
        "\n",
        "* An example in Chile is the Chilean flamingo. This migratory bird has modified its migration patterns due to climate change and its effects on habitat.\n",
        "Normally, flamingos migrated to certain lakes and wetlands in search of food and suitable conditions for reproduction. However, rising temperatures and reduced precipitation have affected the availability of water in these ecosystems. As a result, flamingos have begun to change their migratory routes and search for new places to feed and breed.\n",
        "In addition, the change in water salinity, caused by warming and climate variability, has also influenced the availability of small organisms that are their food source, leading these birds to adapt and search for new habitats.\n",
        "These types of changes highlight how climate change can directly impact species' migratory behavior and local biodiversity.\n",
        "\n",
        "* The huemul and guanaco have shown changes in their migratory patterns due to alterations in their habitat caused by climate change. These animals depend on specific climatic conditions for their survival, and the increase in temperature and variability in precipitation have affected their availability of food and shelter.\n",
        "Huemul: This native Andean deer has seen its seasonal migration patterns altered as snow and temperature conditions have changed, affecting its access to pastures and its reproduction.\n",
        "Guanaco: This mammal has also had to adapt to new climatic conditions, which has led to changes in its migratory routes and travel times.\n",
        "\n",
        "Climate change is significantly modifying the migratory behavior of several species in Chile, which poses challenges for their conservation and management. It is crucial to continue researching and monitoring these changes in order to implement effective conservation strategies."
      ]
    }
  ],
  "metadata": {
    "kernelspec": {
      "display_name": "Python 3",
      "language": "python",
      "name": "python3"
    }
  },
  "nbformat": 4,
  "nbformat_minor": 5
}
